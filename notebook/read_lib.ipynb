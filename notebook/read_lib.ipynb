{
 "cells": [
  {
   "cell_type": "code",
   "execution_count": 7,
   "metadata": {},
   "outputs": [
    {
     "name": "stdout",
     "output_type": "stream",
     "text": [
      "/home/dev/nlp-jp/notebook\n"
     ]
    },
    {
     "data": {
      "text/plain": [
       "<matplotlib.axes._subplots.AxesSubplot at 0x7fdadb443cf8>"
      ]
     },
     "execution_count": 7,
     "metadata": {},
     "output_type": "execute_result"
    },
    {
     "data": {
      "image/png": "[encoded data removed]",
      "text/plain": [
       "<matplotlib.figure.Figure at 0x7fdae24c8f98>"
      ]
     },
     "metadata": {},
     "output_type": "display_data"
    }
   ],
   "source": [
    "import sys, os, time\n",
    "import numpy as np\n",
    "from pandas import *\n",
    "from pylab import *\n",
    "import matplotlib.pyplot as plt\n",
    "from numpy.random import randn\n",
    "%matplotlib inline\n",
    "\n",
    "#app_home = '/home/dev/nlp-jp'\n",
    "#print(app_home)\n",
    "\n",
    "print( os.getcwd() )\n",
    "\n",
    "#plt.plot([1, 3, 2, 4])\n",
    "data = Series({'1':10, '2':3, '3':2, })\n",
    "data.plot(kind='bar', color='k',  )"
   ]
  },
  {
   "cell_type": "code",
   "execution_count": null,
   "metadata": {},
   "outputs": [],
   "source": []
  }
 ],
 "metadata": {
  "kernelspec": {
   "display_name": "Python 3",
   "language": "python",
   "name": "python3"
  },
  "language_info": {
   "codemirror_mode": {
    "name": "ipython",
    "version": 3
   },
   "file_extension": ".py",
   "mimetype": "text/x-python",
   "name": "python",
   "nbconvert_exporter": "python",
   "pygments_lexer": "ipython3",
   "version": "3.5.4"
  }
 },
 "nbformat": 4,
 "nbformat_minor": 2
}

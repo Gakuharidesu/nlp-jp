{
 "cells": [
  {
   "cell_type": "code",
   "execution_count": 18,
   "metadata": {},
   "outputs": [
    {
     "data": {
      "text/plain": [
       "<matplotlib.axes._subplots.AxesSubplot at 0x7fab313f7ef0>"
      ]
     },
     "execution_count": 18,
     "metadata": {},
     "output_type": "execute_result"
    },
    {
     "data": {
      "image/png": "[encoded data removed]",
      "text/plain": [
       "<matplotlib.figure.Figure at 0x7fab316062e8>"
      ]
     },
     "metadata": {},
     "output_type": "display_data"
    }
   ],
   "source": [
    "import matplotlib.pyplot as plt\n",
    "%matplotlib inline\n",
    "\n",
    "#plt.plot([1, 3, 2, 4])\n",
    "data = Series({'1':10, '2':3, '3':2, })\n",
    "data.plot(kind='bar', color='k',  )"
   ]
  },
  {
   "cell_type": "code",
   "execution_count": 12,
   "metadata": {},
   "outputs": [
    {
     "name": "stdout",
     "output_type": "stream",
     "text": [
      "a   -1.048576\n",
      "b    0.473228\n",
      "c    0.264295\n",
      "d   -1.589143\n",
      "e   -0.481664\n",
      "f    1.046033\n",
      "g    2.205603\n",
      "h    0.367491\n",
      "i   -0.869501\n",
      "j    0.321055\n",
      "k   -1.054708\n",
      "l    1.479304\n",
      "m    0.205802\n",
      "n   -0.072515\n",
      "o   -1.371971\n",
      "p   -2.720474\n",
      "dtype: float64\n"
     ]
    },
    {
     "data": {
      "image/png": "[encoded data removed]",
      "text/plain": [
       "<matplotlib.figure.Figure at 0x7fab314ed7f0>"
      ]
     },
     "metadata": {},
     "output_type": "display_data"
    }
   ],
   "source": [
    "import numpy as np\n",
    "from pandas import *\n",
    "from pylab import *\n",
    "import matplotlib.pyplot as plt\n",
    "from numpy.random import randn\n",
    "\n",
    "# ref\n",
    "# http://sinhrks.hatenablog.com/entry/2015/11/15/222543\n",
    "# https://qiita.com/ynakayama/items/94779651d09e1004fd46\n",
    "# https://qiita.com/ynakayama/items/9979258ac68cb669757a\n",
    "\n",
    "#s = Series(np.random.randn(10).cumsum(), index=np.arange(0, 100, 10))\n",
    "#print(s)\n",
    "#s.plot()\n",
    "##plt.show()\n",
    "\n",
    "\n",
    "\n",
    "data = Series(np.random.randn(16), index=list('abcdefghijklmnop'))\n",
    "print( data )\n",
    "# 縦の棒グラフ\n",
    "#data.plot(kind='bar', ax=axes[0], color='k', alpha=0.7)\n",
    "data.plot(kind='bar', color='k', )\n",
    "plt.show()"
   ]
  },
  {
   "cell_type": "code",
   "execution_count": null,
   "metadata": {},
   "outputs": [],
   "source": []
  }
 ],
 "metadata": {
  "kernelspec": {
   "display_name": "Python 3",
   "language": "python",
   "name": "python3"
  },
  "language_info": {
   "codemirror_mode": {
    "name": "ipython",
    "version": 3
   },
   "file_extension": ".py",
   "mimetype": "text/x-python",
   "name": "python",
   "nbconvert_exporter": "python",
   "pygments_lexer": "ipython3",
   "version": "3.5.4"
  }
 },
 "nbformat": 4,
 "nbformat_minor": 2
}
